{
 "cells": [
  {
   "cell_type": "markdown",
   "metadata": {},
   "source": [
    "# Data Structures & Algorithms Playground\n",
    "\n",
    "## Table of Contents\n",
    "1. [Array Operations](#1-array-operations)\n",
    "2. [Linked Lists](#2-linked-lists)\n",
    "3. [Sorting Algorithms](#3-sorting-algorithms)\n",
    "4. [Tree Traversals](#4-tree-traversals)\n",
    "5. [Graph Algorithms](#5-graph-algorithms)\n",
    "6. [Dynamic Programming](#6-dynamic-programming)"
   ]
  },
  {
   "cell_type": "markdown",
   "metadata": {},
   "source": [
    "## 1. Array Operations\n",
    "### Complexity Analysis\n",
    "| Operation | Time | Space |\n",
    "|-----------|------|-------|\n",
    "| Access    | O(1) | O(1)  |\n",
    "| Search    | O(n) | O(1)  |\n",
    "| Insertion | O(n) | O(n)  |\n",
    "| Deletion  | O(n) | O(n)  |"
   ]
  },
  {
   "cell_type": "code",
   "execution_count": null,
   "metadata": {},
   "outputs": [],
   "source": [
    "# Example array implementation\n",
    "from src.arrays.dynamic_array import DynamicArray\n",
    "\n",
    "arr = DynamicArray()\n",
    "arr.append(1)\n",
    "arr.append(2)\n",
    "print(f\"Array: {arr}\")"
   ]
  }
 ],
 "metadata": {
  "kernelspec": {
   "display_name": "Python 3",
   "language": "python",
   "name": "python3"
  }
 },
 "nbformat": 4,
 "nbformat_minor": 4
}
